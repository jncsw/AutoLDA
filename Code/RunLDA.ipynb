{
 "cells": [
  {
   "cell_type": "code",
   "execution_count": null,
   "metadata": {
    "colab": {
     "base_uri": "https://localhost:8080/"
    },
    "executionInfo": {
     "elapsed": 25082,
     "status": "ok",
     "timestamp": 1635805992696,
     "user": {
      "displayName": "Tian Liu",
      "photoUrl": "https://lh3.googleusercontent.com/a/default-user=s64",
      "userId": "02001461680016673745"
     },
     "user_tz": 300
    },
    "id": "F0S8EK0PfbD-",
    "outputId": "ae9b593c-f2d6-4a49-aa15-946aa0f9020a"
   },
   "outputs": [
    {
     "name": "stdout",
     "output_type": "stream",
     "text": [
      "Mounted at /content/drive\n"
     ]
    }
   ],
   "source": [
    "from google.colab import drive\n",
    "drive.mount('/content/drive', force_remount=True)"
   ]
  },
  {
   "cell_type": "code",
   "execution_count": 2,
   "metadata": {
    "colab": {
     "base_uri": "https://localhost:8080/"
    },
    "executionInfo": {
     "elapsed": 682,
     "status": "ok",
     "timestamp": 1635806191582,
     "user": {
      "displayName": "Tian Liu",
      "photoUrl": "https://lh3.googleusercontent.com/a/default-user=s64",
      "userId": "02001461680016673745"
     },
     "user_tz": 300
    },
    "id": "w8cDRpvRpUHQ",
    "outputId": "daec86d1-863e-4eea-fc69-e4728675dc72"
   },
   "outputs": [
    {
     "name": "stderr",
     "output_type": "stream",
     "text": [
      "[nltk_data] Downloading package stopwords to /home/ubuntu/nltk_data...\n",
      "[nltk_data]   Unzipping corpora/stopwords.zip.\n",
      "[nltk_data] Downloading package punkt to /home/ubuntu/nltk_data...\n",
      "[nltk_data]   Unzipping tokenizers/punkt.zip.\n"
     ]
    },
    {
     "data": {
      "text/plain": [
       "True"
      ]
     },
     "execution_count": 2,
     "metadata": {},
     "output_type": "execute_result"
    }
   ],
   "source": [
    "import nltk\n",
    "nltk.download('stopwords')\n",
    "nltk.download('punkt')"
   ]
  },
  {
   "cell_type": "code",
   "execution_count": null,
   "metadata": {
    "colab": {
     "base_uri": "https://localhost:8080/"
    },
    "executionInfo": {
     "elapsed": 32162,
     "status": "ok",
     "timestamp": 1635815763546,
     "user": {
      "displayName": "Tian Liu",
      "photoUrl": "https://lh3.googleusercontent.com/a/default-user=s64",
      "userId": "02001461680016673745"
     },
     "user_tz": 300
    },
    "id": "3BTwInm0okab",
    "outputId": "25166d65-59a4-4cfe-f592-c006f901bdcd"
   },
   "outputs": [
    {
     "name": "stdout",
     "output_type": "stream",
     "text": [
      "/content/drive/MyDrive/CSCE676_DataMiningProject/Code\n",
      "/usr/local/lib/python3.7/dist-packages/sklearn/base.py:318: UserWarning: Trying to unpickle estimator CountVectorizer from version 0.24.2 when using version 0.22.2.post1. This might lead to breaking code or invalid results. Use at your own risk.\n",
      "  UserWarning)\n",
      "/usr/local/lib/python3.7/dist-packages/sklearn/base.py:318: UserWarning: Trying to unpickle estimator LatentDirichletAllocation from version 0.24.2 when using version 0.22.2.post1. This might lead to breaking code or invalid results. Use at your own risk.\n",
      "  UserWarning)\n",
      "\n",
      "Log Likelihood:  -1034551.7104492282\n",
      "Perplexity:  707.7736399193836\n",
      "Topic 0\n",
      "['man', 'picture', 'camera', 'birthday', 'vlog', 'wear', 'cute', 'black', 'girl', 'baby', 'mom', 'phone']\n",
      "Topic 1\n",
      "['eat', 'food', 'walk', 'morning', 'quarantine', 'nice', 'literally', 'coffee', 'buy', 'clean', 'store', 'wear']\n",
      "Topic 2\n",
      "['hair', 'clean', 'face', 'skin', 'leave', 'maybe', 'book', 'makeup', 'new', 'read', 'super', 'do']\n",
      "Topic 3\n",
      "['happen', 'live', 'mask', 'close', 'crazy', 'guess', 'open', 'store', 'place', 'walk', 'tell', 'whole']\n",
      "Topic 4\n",
      "['do', 'morning', 'school', 'life', 'quarantine', 'literally', 'class', 'hour', 'youtube', 'vlog', 'night', 'friend']\n",
      "Topic 5\n",
      "['apartment', 'move', 'room', 'live', 'new', 'price', 'find', 'order', 'year', 'big', 'top', 'space']\n",
      "Counter({3: 189, 1: 137, 4: 130, 2: 41, 5: 27, 0: 20})\n"
     ]
    }
   ],
   "source": [
    "%cd /content/drive/MyDrive/CSCE676_DataMiningProject/Code/\n",
    "!python LDA.py"
   ]
  },
  {
   "cell_type": "code",
   "execution_count": null,
   "metadata": {
    "colab": {
     "base_uri": "https://localhost:8080/"
    },
    "executionInfo": {
     "elapsed": 186,
     "status": "ok",
     "timestamp": 1635816410192,
     "user": {
      "displayName": "Tian Liu",
      "photoUrl": "https://lh3.googleusercontent.com/a/default-user=s64",
      "userId": "02001461680016673745"
     },
     "user_tz": 300
    },
    "id": "yLNREamnCP2p",
    "outputId": "c580bfbb-31e8-44c9-b425-efff1cc1cc51"
   },
   "outputs": [
    {
     "name": "stdout",
     "output_type": "stream",
     "text": [
      "total 272K\n",
      "-rw------- 1 root root 242K Oct 12 07:41 lda_model.pkl\n",
      "drwx------ 2 root root 4.0K Nov  1 22:01 Transcripts\n",
      "-rw------- 1 root root  22K Nov  2 00:24 LDA.py\n",
      "-rw------- 1 root root 4.4K Nov  2 01:16 RunLDA.ipynb\n"
     ]
    }
   ],
   "source": [
    "!ls -lthr"
   ]
  },
  {
   "cell_type": "markdown",
   "metadata": {
    "id": "mYF3EF-mGoLq"
   },
   "source": [
    "GloVe pretrained embeddings"
   ]
  },
  {
   "cell_type": "code",
   "execution_count": null,
   "metadata": {
    "colab": {
     "base_uri": "https://localhost:8080/"
    },
    "executionInfo": {
     "elapsed": 186125,
     "status": "ok",
     "timestamp": 1636424028951,
     "user": {
      "displayName": "Tian Liu",
      "photoUrl": "https://lh3.googleusercontent.com/a/default-user=s64",
      "userId": "02001461680016673745"
     },
     "user_tz": 360
    },
    "id": "3lubeGgzGnBb",
    "outputId": "64ce55ff-05e6-46d4-b639-757704eb1672"
   },
   "outputs": [
    {
     "name": "stdout",
     "output_type": "stream",
     "text": [
      "--2021-11-09 02:10:42--  http://nlp.stanford.edu/data/glove.6B.zip\n",
      "Resolving nlp.stanford.edu (nlp.stanford.edu)... 171.64.67.140\n",
      "Connecting to nlp.stanford.edu (nlp.stanford.edu)|171.64.67.140|:80... connected.\n",
      "HTTP request sent, awaiting response... 302 Found\n",
      "Location: https://nlp.stanford.edu/data/glove.6B.zip [following]\n",
      "--2021-11-09 02:10:42--  https://nlp.stanford.edu/data/glove.6B.zip\n",
      "Connecting to nlp.stanford.edu (nlp.stanford.edu)|171.64.67.140|:443... connected.\n",
      "HTTP request sent, awaiting response... 301 Moved Permanently\n",
      "Location: http://downloads.cs.stanford.edu/nlp/data/glove.6B.zip [following]\n",
      "--2021-11-09 02:10:43--  http://downloads.cs.stanford.edu/nlp/data/glove.6B.zip\n",
      "Resolving downloads.cs.stanford.edu (downloads.cs.stanford.edu)... 171.64.64.22\n",
      "Connecting to downloads.cs.stanford.edu (downloads.cs.stanford.edu)|171.64.64.22|:80... connected.\n",
      "HTTP request sent, awaiting response... 200 OK\n",
      "Length: 862182613 (822M) [application/zip]\n",
      "Saving to: ‘glove.6B.zip’\n",
      "\n",
      "glove.6B.zip        100%[===================>] 822.24M  5.09MB/s    in 2m 41s  \n",
      "\n",
      "2021-11-09 02:13:24 (5.12 MB/s) - ‘glove.6B.zip’ saved [862182613/862182613]\n",
      "\n"
     ]
    }
   ],
   "source": [
    "!wget http://nlp.stanford.edu/data/glove.6B.zip\n",
    "!unzip -q glove.6B.zip"
   ]
  },
  {
   "cell_type": "code",
   "execution_count": null,
   "metadata": {
    "colab": {
     "base_uri": "https://localhost:8080/"
    },
    "executionInfo": {
     "elapsed": 159035,
     "status": "ok",
     "timestamp": 1636424960330,
     "user": {
      "displayName": "Tian Liu",
      "photoUrl": "https://lh3.googleusercontent.com/a/default-user=s64",
      "userId": "02001461680016673745"
     },
     "user_tz": 360
    },
    "id": "aopy23jtfhwD",
    "outputId": "844d3a8d-6dbb-4058-cbd5-41cd42f60a2d"
   },
   "outputs": [
    {
     "name": "stdout",
     "output_type": "stream",
     "text": [
      "--2021-11-09 02:23:44--  http://nlp.stanford.edu/data/glove.twitter.27B.zip\n",
      "Resolving nlp.stanford.edu (nlp.stanford.edu)... 171.64.67.140\n",
      "Connecting to nlp.stanford.edu (nlp.stanford.edu)|171.64.67.140|:80... connected.\n",
      "HTTP request sent, awaiting response... 302 Found\n",
      "Location: https://nlp.stanford.edu/data/glove.twitter.27B.zip [following]\n",
      "--2021-11-09 02:23:45--  https://nlp.stanford.edu/data/glove.twitter.27B.zip\n",
      "Connecting to nlp.stanford.edu (nlp.stanford.edu)|171.64.67.140|:443... connected.\n",
      "HTTP request sent, awaiting response... 301 Moved Permanently\n",
      "Location: http://downloads.cs.stanford.edu/nlp/data/glove.twitter.27B.zip [following]\n",
      "--2021-11-09 02:23:45--  http://downloads.cs.stanford.edu/nlp/data/glove.twitter.27B.zip\n",
      "Resolving downloads.cs.stanford.edu (downloads.cs.stanford.edu)... 171.64.64.22\n",
      "Connecting to downloads.cs.stanford.edu (downloads.cs.stanford.edu)|171.64.64.22|:80... connected.\n",
      "HTTP request sent, awaiting response... 200 OK\n",
      "Length: 1520408563 (1.4G) [application/zip]\n",
      "Saving to: ‘glove.twitter.27B.zip’\n",
      "\n",
      "glove.twitter.27B.z 100%[===================>]   1.42G  4.80MB/s    in 4m 48s  \n",
      "\n",
      "2021-11-09 02:28:33 (5.03 MB/s) - ‘glove.twitter.27B.zip’ saved [1520408563/1520408563]\n",
      "\n"
     ]
    }
   ],
   "source": [
    "!wget http://nlp.stanford.edu/data/glove.twitter.27B.zip\n",
    "!unzip -q glove.twitter.27B.zip"
   ]
  },
  {
   "cell_type": "code",
   "execution_count": null,
   "metadata": {
    "colab": {
     "base_uri": "https://localhost:8080/"
    },
    "executionInfo": {
     "elapsed": 22698,
     "status": "ok",
     "timestamp": 1636425504087,
     "user": {
      "displayName": "Tian Liu",
      "photoUrl": "https://lh3.googleusercontent.com/a/default-user=s64",
      "userId": "02001461680016673745"
     },
     "user_tz": 360
    },
    "id": "olU1CkgVGxi_",
    "outputId": "886d54b4-e146-473f-90c3-424978ac13ba"
   },
   "outputs": [
    {
     "name": "stdout",
     "output_type": "stream",
     "text": [
      "Found 1193514 word vectors.\n"
     ]
    }
   ],
   "source": [
    "import os\n",
    "import numpy as np\n",
    "\n",
    "# path_to_glove_file = \"glove.6B.100d.txt\" # pick 100 dimension, 50 100 200 300 \n",
    "\n",
    "path_to_glove_file = \"glove.twitter.27B.100d.txt\"\n",
    "\n",
    "embeddings_index = {}\n",
    "with open(path_to_glove_file) as f:\n",
    "    for line in f:\n",
    "        word, coefs = line.split(maxsplit=1)\n",
    "        coefs = np.fromstring(coefs, \"f\", sep=\" \")\n",
    "        embeddings_index[word] = coefs\n",
    "\n",
    "print(\"Found %s word vectors.\" % len(embeddings_index))"
   ]
  },
  {
   "cell_type": "code",
   "execution_count": 23,
   "metadata": {
    "colab": {
     "base_uri": "https://localhost:8080/"
    },
    "executionInfo": {
     "elapsed": 123,
     "status": "ok",
     "timestamp": 1636425966011,
     "user": {
      "displayName": "Tian Liu",
      "photoUrl": "https://lh3.googleusercontent.com/a/default-user=s64",
      "userId": "02001461680016673745"
     },
     "user_tz": 360
    },
    "id": "y75QQIGLG8Tf",
    "outputId": "aa78b2e0-c282-4a42-c3a1-2376803df475"
   },
   "outputs": [
    {
     "name": "stdout",
     "output_type": "stream",
     "text": [
      "(3, 100)\n"
     ]
    }
   ],
   "source": [
    "topic0 = ['man', 'picture', 'camera', 'birthday', 'vlog', 'wear', 'cute', 'black', 'girl', 'baby', 'mom', 'phone']\n",
    "\n",
    "topic = ['dog','cat','homework']\n",
    "\n",
    "topic = ['gold','mining','water']\n",
    "topic = ['cake','bread','math']\n",
    "topic = ['quarantine','vaccine','literally']\n",
    "\n",
    "topic_matrix = []\n",
    "for word in topic:\n",
    "  # print(embeddings_index[word])\n",
    "  topic_matrix.append(embeddings_index[word])\n",
    "\n",
    "t = np.array(topic_matrix)\n",
    "print(t.shape)"
   ]
  },
  {
   "cell_type": "code",
   "execution_count": 24,
   "metadata": {
    "colab": {
     "base_uri": "https://localhost:8080/"
    },
    "executionInfo": {
     "elapsed": 121,
     "status": "ok",
     "timestamp": 1636425967409,
     "user": {
      "displayName": "Tian Liu",
      "photoUrl": "https://lh3.googleusercontent.com/a/default-user=s64",
      "userId": "02001461680016673745"
     },
     "user_tz": 360
    },
    "id": "Vo6mP7H0KJgd",
    "outputId": "c61eac28-d15c-407f-dc7c-f9c0dcff1eab"
   },
   "outputs": [
    {
     "name": "stdout",
     "output_type": "stream",
     "text": [
      "6.118904\n",
      "7.372419\n"
     ]
    }
   ],
   "source": [
    "a = t[0,:]\n",
    "# print(a)\n",
    "b = t[1,:]\n",
    "# print(b)\n",
    "c = t[2,:]\n",
    "\n",
    "dist1 = np.linalg.norm(a-b)\n",
    "dist2 = np.linalg.norm(a-c)\n",
    "print(dist1)\n",
    "print(dist2)"
   ]
  }
 ],
 "metadata": {
  "colab": {
   "collapsed_sections": [],
   "name": "RunLDA.ipynb",
   "provenance": []
  },
  "kernelspec": {
   "display_name": "Python 3",
   "language": "python",
   "name": "python3"
  },
  "language_info": {
   "codemirror_mode": {
    "name": "ipython",
    "version": 3
   },
   "file_extension": ".py",
   "mimetype": "text/x-python",
   "name": "python",
   "nbconvert_exporter": "python",
   "pygments_lexer": "ipython3",
   "version": "3.6.9"
  }
 },
 "nbformat": 4,
 "nbformat_minor": 4
}
